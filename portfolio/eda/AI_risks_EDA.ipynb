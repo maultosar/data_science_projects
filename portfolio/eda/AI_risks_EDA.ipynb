{
  "nbformat": 4,
  "nbformat_minor": 0,
  "metadata": {
    "colab": {
      "provenance": [],
      "authorship_tag": "ABX9TyPQTLygh4uSTITzpllCmCBt",
      "include_colab_link": true
    },
    "kernelspec": {
      "name": "python3",
      "display_name": "Python 3"
    },
    "language_info": {
      "name": "python"
    }
  },
  "cells": [
    {
      "cell_type": "markdown",
      "metadata": {
        "id": "view-in-github",
        "colab_type": "text"
      },
      "source": [
        "<a href=\"https://colab.research.google.com/github/vitaliy-sharandin/data_science_projects/blob/master/portfolio/eda/AI_risks_EDA.ipynb\" target=\"_parent\"><img src=\"https://colab.research.google.com/assets/colab-badge.svg\" alt=\"Open In Colab\"/></a>"
      ]
    },
    {
      "cell_type": "markdown",
      "source": [
        "# Datasets\n",
        "\n",
        "* AI Incident Database <br>\n",
        "https://www.kaggle.com/datasets/konradb/ai-incident-database\n",
        "* Government AI Readiness Index <br>\n",
        "https://www.statista.com/statistics/1231685/worldwide-government-artificial-intelligence-readiness-index/ <br>\n",
        "https://www.statista.com/statistics/1231719/eastern-europe-government-artificial-intelligence-readiness-index/\n",
        "* AI Ethics Guidelines Global Inventory <br>\n",
        "https://www.statista.com/statistics/1286900/ai-ethics-principles-by-organization-type/\n",
        "\n",
        "\n",
        "# Questions\n",
        "\n",
        "1. What are main AI failure types?\n",
        "2. Failure types evolution through time.\n",
        "3. Failure types by domain/company/country/demographics/models.\n",
        "4. Consequences of AI failures\n",
        "5. How these AI risks map onto existing ethical guidelines and regulations?\n",
        "6. What are the mitigation strategies that are most effective?\n",
        "7. How to prevent those risks?\n",
        "\n"
      ],
      "metadata": {
        "id": "uuNNnS-p9i_K"
      }
    },
    {
      "cell_type": "code",
      "execution_count": null,
      "metadata": {
        "id": "MDwiQ-Z059X7"
      },
      "outputs": [],
      "source": [
        "\n"
      ]
    }
  ]
}