{
  "nbformat": 4,
  "nbformat_minor": 0,
  "metadata": {
    "colab": {
      "provenance": [],
      "authorship_tag": "ABX9TyOhaQBLZWzJjZqhA2z2Oe8T",
      "include_colab_link": true
    },
    "kernelspec": {
      "name": "python3",
      "display_name": "Python 3"
    },
    "language_info": {
      "name": "python"
    }
  },
  "cells": [
    {
      "cell_type": "markdown",
      "metadata": {
        "id": "view-in-github",
        "colab_type": "text"
      },
      "source": [
        "<a href=\"https://colab.research.google.com/github/vitaliy-sharandin/data_science_projects/blob/master/portfolio/eda/AI_risks_EDA.ipynb\" target=\"_parent\"><img src=\"https://colab.research.google.com/assets/colab-badge.svg\" alt=\"Open In Colab\"/></a>"
      ]
    },
    {
      "cell_type": "markdown",
      "source": [
        "# Datasets\n",
        "\n",
        "* AI Incident Database\n",
        "https://www.kaggle.com/datasets/konradb/ai-incident-database\n",
        "* Algorithmic Justice League's Biased Algorithm Datasets\n",
        "* Government AI Readiness Index\n",
        "* AI Ethics Guidelines Global Inventory\n",
        "* Data & Society Reports\n",
        "* AI Now Institute Reports\n",
        "\n",
        "# Questions\n",
        "\n",
        "1. What are main AI failure types?\n",
        "2. Failure types evolution through time.\n",
        "3. Failure types by domain/company/country/demographics/models.\n",
        "4. Consequences of AI failures\n",
        "5. How these AI risks map onto existing ethical guidelines and regulations?\n",
        "6. What are the mitigation strategies that are most effective?\n",
        "7. How to prevent those risks?\n",
        "\n"
      ],
      "metadata": {
        "id": "uuNNnS-p9i_K"
      }
    },
    {
      "cell_type": "code",
      "execution_count": null,
      "metadata": {
        "id": "MDwiQ-Z059X7"
      },
      "outputs": [],
      "source": [
        "\n"
      ]
    }
  ]
}