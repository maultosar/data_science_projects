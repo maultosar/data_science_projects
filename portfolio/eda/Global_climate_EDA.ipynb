{
  "nbformat": 4,
  "nbformat_minor": 0,
  "metadata": {
    "colab": {
      "provenance": [],
      "include_colab_link": true
    },
    "kernelspec": {
      "name": "python3",
      "display_name": "Python 3"
    },
    "language_info": {
      "name": "python"
    }
  },
  "cells": [
    {
      "cell_type": "markdown",
      "metadata": {
        "id": "view-in-github",
        "colab_type": "text"
      },
      "source": [
        "<a href=\"https://colab.research.google.com/github/vitaliy-sharandin/data_science_projects/blob/master/portfolio/eda/Global_climate_EDA.ipynb\" target=\"_parent\"><img src=\"https://colab.research.google.com/assets/colab-badge.svg\" alt=\"Open In Colab\"/></a>"
      ]
    },
    {
      "cell_type": "markdown",
      "source": [
        "# Datasets\n",
        "\n",
        "#### Global\n",
        "* NASA's Global Climate Change Datasets\n",
        "* NOAA's Climate Datasets\n",
        "* WHO Air Pollution Data Portal\n",
        "* Climate Change Knowledge Portal\n",
        "* Climate Change Initiative\n",
        "* Citizen Weather Observer Program (CWOP/APRS)\n",
        "\n",
        "* https://ourworldindata.org/co2-and-greenhouse-gas-emissions\n",
        "* https://github.com/owid/co2-data\n",
        "\n",
        "#### Krakow\n",
        "* Krakow temperatures\n",
        "https://www.visualcrossing.com/weather/weather-data-services\n",
        "* Krakow pollution levels\n",
        "https://powietrze.gios.gov.pl/pjp/archives\n",
        "* Air corridors\n",
        "* https://reasonstobecheerful.world/stuttgart-ventilation-corridors-green-cool-air/\n",
        "* What is direction and average speed of wind in Krakow?\n",
        "\n",
        "# Questions\n",
        "1. Temperature Changes:\n",
        "\n",
        "  * How has the global average temperature changed over the years?\n",
        "  * Are there specific regions where the temperature is rising faster?\n",
        "  * What is the correlation between greenhouse gas concentration and global temperature rise?\n",
        "\n",
        "2. Greenhouse Gas Emissions:\n",
        "  * Which countries are the largest emitters of greenhouse gases, and how has this changed over time?\n",
        "  * What sectors (energy, agriculture, industrial processes, etc.) contribute most to greenhouse gas emissions globally and locally?\n",
        "  * How do per capita emissions vary across different countries?\n",
        "\n",
        "3. Effects on Biodiversity:\n",
        "  * How is climate change impacting biodiversity in different ecosystems?\n",
        "  * Are certain species more affected than others?\n",
        "  * What is the correlation between climate change and the extinction rate?\n",
        "\n",
        "4. Climate Policies and Agreements:\n",
        "  * How have different countries' emissions changed after major climate agreements (like the Paris Agreement)?\n",
        "  * Are countries meeting their Nationally Determined Contributions (NDCs)?\n",
        "  * How do the policies and efforts of different countries compare?\n",
        "\n",
        "5. Extreme Weather Events:\n",
        "  * Has the frequency of extreme weather events (like hurricanes, heatwaves, heavy rain) changed over time?\n",
        "  * What regions are most affected by these extreme events?\n",
        "  * What's the economic impact of these events?\n",
        "  \n",
        "\n",
        "\n"
      ],
      "metadata": {
        "id": "xWhv0rpGetzn"
      }
    },
    {
      "cell_type": "markdown",
      "source": [
        "* Temperature by city/country\n",
        "  * https://www.kaggle.com/datasets/berkeleyearth/climate-change-earth-surface-temperature-data\n",
        "  * Nasa dateset by country\n",
        "* Emmisions by city/country\n",
        "  * https://www.kaggle.com/datasets/thedevastator/global-fossil-co2-emissions-by-country-2002-2022\n",
        "  * https://ourworldindata.org/co2-and-greenhouse-gas-emissions\n",
        "  * https://github.com/owid/co2-data\n",
        "* Krakow temperatures\n",
        "  * https://danepubliczne.imgw.pl/data/dane_pomiarowo_obserwacyjne/dane_meteorologiczne/miesieczne/klimat/\n",
        "* Krakow emmisions\n",
        "  * https://powietrze.gios.gov.pl/pjp/archives"
      ],
      "metadata": {
        "id": "DIh7zYUsHfWZ"
      }
    },
    {
      "cell_type": "code",
      "execution_count": null,
      "metadata": {
        "id": "Mllk39C36xiF"
      },
      "outputs": [],
      "source": []
    }
  ]
}