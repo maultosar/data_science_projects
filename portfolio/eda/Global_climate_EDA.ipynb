{
  "nbformat": 4,
  "nbformat_minor": 0,
  "metadata": {
    "colab": {
      "provenance": [],
      "include_colab_link": true
    },
    "kernelspec": {
      "name": "python3",
      "display_name": "Python 3"
    },
    "language_info": {
      "name": "python"
    }
  },
  "cells": [
    {
      "cell_type": "markdown",
      "metadata": {
        "id": "view-in-github",
        "colab_type": "text"
      },
      "source": [
        "<a href=\"https://colab.research.google.com/github/vitaliy-sharandin/data_science_projects/blob/master/portfolio/eda/Global_climate_EDA.ipynb\" target=\"_parent\"><img src=\"https://colab.research.google.com/assets/colab-badge.svg\" alt=\"Open In Colab\"/></a>"
      ]
    },
    {
      "cell_type": "markdown",
      "source": [
        "# Datasets\n",
        "\n",
        "#### Global\n",
        "* NASA's Global Climate Change Datasets\n",
        "* NOAA's Climate Datasets\n",
        "* WHO Air Pollution Data Portal\n",
        "* Climate Change Knowledge Portal\n",
        "* Climate Change Initiative\n",
        "* Citizen Weather Observer Program (CWOP/APRS)\n",
        "\n",
        "* https://ourworldindata.org/co2-and-greenhouse-gas-emissions\n",
        "* https://github.com/owid/co2-data\n",
        "\n",
        "#### Krakow\n",
        "* Krakow temperatures\n",
        "https://www.visualcrossing.com/weather/weather-data-services\n",
        "* Krakow pollution levels\n",
        "https://powietrze.gios.gov.pl/pjp/archives\n",
        "* Air corridors\n",
        "* https://reasonstobecheerful.world/stuttgart-ventilation-corridors-green-cool-air/\n",
        "* What is direction and average speed of wind in Krakow?\n",
        "\n",
        "# Questions\n",
        "1. Temperature Changes:\n",
        "\n",
        "  * How has the global average temperature changed over the years?\n",
        "  * Are there specific regions where the temperature is rising faster?\n",
        "  * What is the correlation between greenhouse gas concentration and global temperature rise?\n",
        "\n",
        "2. Greenhouse Gas Emissions:\n",
        "  * Which countries are the largest emitters of greenhouse gases, and how has this changed over time?\n",
        "  * What sectors (energy, agriculture, industrial processes, etc.) contribute most to greenhouse gas emissions globally and locally?\n",
        "  * How do per capita emissions vary across different countries?\n",
        "\n",
        "3. Effects on Biodiversity:\n",
        "  * How is climate change impacting biodiversity in different ecosystems?\n",
        "  * Are certain species more affected than others?\n",
        "  * What is the correlation between climate change and the extinction rate?\n",
        "\n",
        "4. Climate Policies and Agreements:\n",
        "  * How have different countries' emissions changed after major climate agreements (like the Paris Agreement)?\n",
        "  * Are countries meeting their Nationally Determined Contributions (NDCs)?\n",
        "  * How do the policies and efforts of different countries compare?\n",
        "\n",
        "5. Extreme Weather Events:\n",
        "  * Has the frequency of extreme weather events (like hurricanes, heatwaves, heavy rain) changed over time?\n",
        "  * What regions are most affected by these extreme events?\n",
        "  * What's the economic impact of these events?\n",
        "  \n",
        "\n",
        "\n"
      ],
      "metadata": {
        "id": "xWhv0rpGetzn"
      }
    },
    {
      "cell_type": "markdown",
      "source": [
        "* Temperature by city/country\n",
        "  * https://www.kaggle.com/datasets/berkeleyearth/climate-change-earth-surface-temperature-data\n",
        "  * Nasa dateset by country\n",
        "* Emmisions by city/country\n",
        "  * https://www.kaggle.com/datasets/thedevastator/global-fossil-co2-emissions-by-country-2002-2022\n",
        "  * https://ourworldindata.org/co2-and-greenhouse-gas-emissions\n",
        "  * https://github.com/owid/co2-data\n",
        "* Krakow temperatures\n",
        "  * https://danepubliczne.imgw.pl/data/dane_pomiarowo_obserwacyjne/dane_meteorologiczne/miesieczne/klimat/\n",
        "* Krakow emmisions\n",
        "  * https://powietrze.gios.gov.pl/pjp/archives"
      ],
      "metadata": {
        "id": "DIh7zYUsHfWZ"
      }
    },
    {
      "cell_type": "code",
      "execution_count": 1,
      "metadata": {
        "id": "Mllk39C36xiF",
        "outputId": "e408acb1-f565-4e69-d6a9-4741a52ec19b",
        "colab": {
          "base_uri": "https://localhost:8080/"
        }
      },
      "outputs": [
        {
          "output_type": "stream",
          "name": "stdout",
          "text": [
            "\u001b[2K     \u001b[90m━━━━━━━━━━━━━━━━━━━━━━━━━━━━━━━━━━━━━━━\u001b[0m \u001b[32m519.6/519.6 kB\u001b[0m \u001b[31m5.8 MB/s\u001b[0m eta \u001b[36m0:00:00\u001b[0m\n",
            "\u001b[2K     \u001b[90m━━━━━━━━━━━━━━━━━━━━━━━━━━━━━━━━━━━━━━━\u001b[0m \u001b[32m115.3/115.3 kB\u001b[0m \u001b[31m5.4 MB/s\u001b[0m eta \u001b[36m0:00:00\u001b[0m\n",
            "\u001b[2K     \u001b[90m━━━━━━━━━━━━━━━━━━━━━━━━━━━━━━━━━━━━━━━\u001b[0m \u001b[32m194.1/194.1 kB\u001b[0m \u001b[31m7.6 MB/s\u001b[0m eta \u001b[36m0:00:00\u001b[0m\n",
            "\u001b[2K     \u001b[90m━━━━━━━━━━━━━━━━━━━━━━━━━━━━━━━━━━━━━━━\u001b[0m \u001b[32m134.8/134.8 kB\u001b[0m \u001b[31m6.5 MB/s\u001b[0m eta \u001b[36m0:00:00\u001b[0m\n",
            "\u001b[2K     \u001b[90m━━━━━━━━━━━━━━━━━━━━━━━━━━━━━━━━━━━━━━━\u001b[0m \u001b[32m268.8/268.8 kB\u001b[0m \u001b[31m9.0 MB/s\u001b[0m eta \u001b[36m0:00:00\u001b[0m\n",
            "\u001b[2K     \u001b[90m━━━━━━━━━━━━━━━━━━━━━━━━━━━━━━━━━━━━━━━\u001b[0m \u001b[32m357.3/357.3 kB\u001b[0m \u001b[31m5.4 MB/s\u001b[0m eta \u001b[36m0:00:00\u001b[0m\n",
            "\u001b[2K     \u001b[90m━━━━━━━━━━━━━━━━━━━━━━━━━━━━━━━━━━━━━━\u001b[0m \u001b[32m102.7/102.7 kB\u001b[0m \u001b[31m10.5 MB/s\u001b[0m eta \u001b[36m0:00:00\u001b[0m\n",
            "\u001b[?25h  Preparing metadata (setup.py) ... \u001b[?25l\u001b[?25hdone\n",
            "\u001b[2K     \u001b[90m━━━━━━━━━━━━━━━━━━━━━━━━━━━━━━━━━━━━━━\u001b[0m \u001b[32m679.5/679.5 kB\u001b[0m \u001b[31m12.5 MB/s\u001b[0m eta \u001b[36m0:00:00\u001b[0m\n",
            "\u001b[2K     \u001b[90m━━━━━━━━━━━━━━━━━━━━━━━━━━━━━━━━━━━━━━\u001b[0m \u001b[32m296.5/296.5 kB\u001b[0m \u001b[31m12.7 MB/s\u001b[0m eta \u001b[36m0:00:00\u001b[0m\n",
            "\u001b[2K     \u001b[90m━━━━━━━━━━━━━━━━━━━━━━━━━━━━━━━━━━━━━━━━\u001b[0m \u001b[32m4.7/4.7 MB\u001b[0m \u001b[31m22.0 MB/s\u001b[0m eta \u001b[36m0:00:00\u001b[0m\n",
            "\u001b[?25h  Building wheel for htmlmin (setup.py) ... \u001b[?25l\u001b[?25hdone\n"
          ]
        }
      ],
      "source": [
        "!pip install -U -q datasets\n",
        "!pip install -U -q ydata-profiling"
      ]
    },
    {
      "cell_type": "code",
      "source": [
        "from datasets import load_dataset\n",
        "from ydata_profiling import ProfileReport"
      ],
      "metadata": {
        "id": "yXEXXk-7dflV"
      },
      "execution_count": 2,
      "outputs": []
    },
    {
      "cell_type": "code",
      "source": [
        "climate_dataset = load_dataset(\"vitaliy-sharandin/climate-krakow-monthly-1951-2023\")\n",
        "climate_dataset"
      ],
      "metadata": {
        "id": "wGJyHDtOdiJX",
        "outputId": "a1c81d88-5c6f-419b-f886-122583081c8d",
        "colab": {
          "base_uri": "https://localhost:8080/"
        }
      },
      "execution_count": 9,
      "outputs": [
        {
          "output_type": "execute_result",
          "data": {
            "text/plain": [
              "DatasetDict({\n",
              "    train: Dataset({\n",
              "        features: ['Station code', 'Station name', 'Year', 'Month', 'Absolute maximum temperature [°C]', 'TMAX measurement status', 'Average maximum temperature [°C]', 'TMXS measurement status', 'Absolute minimum temperature [°C]', 'TMIN measurement status', 'Average minimum temperature [°C]', 'TMNS measurement status', 'Average monthly temperature [°C]', 'STM measurement status', 'Minimum temperature at the ground [°C]', 'TMNG measurement status', 'Monthly rainfall [mm]', 'SUMM measurement status', 'Maximum daily rainfall [mm]', 'OPMX measurement status', 'The first day of maximum precipitation', 'The last day of maximum precipitation', 'Maximum height of snow cover [cm]', 'PKSN measurement status', 'Number of days with snow cover', 'Number of days with rainfall', 'Number of days with snowfall'],\n",
              "        num_rows: 870\n",
              "    })\n",
              "})"
            ]
          },
          "metadata": {},
          "execution_count": 9
        }
      ]
    }
  ]
}