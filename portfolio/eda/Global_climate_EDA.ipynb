{
  "nbformat": 4,
  "nbformat_minor": 0,
  "metadata": {
    "colab": {
      "provenance": [],
      "include_colab_link": true
    },
    "kernelspec": {
      "name": "python3",
      "display_name": "Python 3"
    },
    "language_info": {
      "name": "python"
    }
  },
  "cells": [
    {
      "cell_type": "markdown",
      "metadata": {
        "id": "view-in-github",
        "colab_type": "text"
      },
      "source": [
        "<a href=\"https://colab.research.google.com/github/vitaliy-sharandin/data_science_projects/blob/master/portfolio/eda/Global_climate_EDA.ipynb\" target=\"_parent\"><img src=\"https://colab.research.google.com/assets/colab-badge.svg\" alt=\"Open In Colab\"/></a>"
      ]
    },
    {
      "cell_type": "markdown",
      "source": [
        "# Datasets\n",
        "\n",
        "#### Global\n",
        "* NASA's Global Climate Change Datasets\n",
        "* NOAA's Climate Datasets\n",
        "* WHO Air Pollution Data Portal\n",
        "* Climate Change Knowledge Portal\n",
        "* Climate Change Initiative\n",
        "* Citizen Weather Observer Program (CWOP/APRS)\n",
        "\n",
        "* https://ourworldindata.org/co2-and-greenhouse-gas-emissions\n",
        "* https://github.com/owid/co2-data\n",
        "\n",
        "#### Krakow\n",
        "* Krakow temperatures\n",
        "https://www.visualcrossing.com/weather/weather-data-services\n",
        "* Krakow pollution levels\n",
        "https://powietrze.gios.gov.pl/pjp/archives\n",
        "* Air corridors\n",
        "* https://reasonstobecheerful.world/stuttgart-ventilation-corridors-green-cool-air/\n",
        "* What is direction and average speed of wind in Krakow?\n",
        "\n",
        "# Questions\n",
        "1. Temperature Changes:\n",
        "\n",
        "  * How has the global average temperature changed over the years?\n",
        "  * Are there specific regions where the temperature is rising faster?\n",
        "  * What is the correlation between greenhouse gas concentration and global temperature rise?\n",
        "\n",
        "2. Greenhouse Gas Emissions:\n",
        "  * Which countries are the largest emitters of greenhouse gases, and how has this changed over time?\n",
        "  * What sectors (energy, agriculture, industrial processes, etc.) contribute most to greenhouse gas emissions globally and locally?\n",
        "  * How do per capita emissions vary across different countries?\n",
        "\n",
        "3. Effects on Biodiversity:\n",
        "  * How is climate change impacting biodiversity in different ecosystems?\n",
        "  * Are certain species more affected than others?\n",
        "  * What is the correlation between climate change and the extinction rate?\n",
        "\n",
        "4. Climate Policies and Agreements:\n",
        "  * How have different countries' emissions changed after major climate agreements (like the Paris Agreement)?\n",
        "  * Are countries meeting their Nationally Determined Contributions (NDCs)?\n",
        "  * How do the policies and efforts of different countries compare?\n",
        "\n",
        "5. Extreme Weather Events:\n",
        "  * Has the frequency of extreme weather events (like hurricanes, heatwaves, heavy rain) changed over time?\n",
        "  * What regions are most affected by these extreme events?\n",
        "  * What's the economic impact of these events?\n",
        "  \n",
        "\n",
        "\n"
      ],
      "metadata": {
        "id": "xWhv0rpGetzn"
      }
    },
    {
      "cell_type": "markdown",
      "source": [
        "* Temperature by city/country\n",
        "  * https://www.kaggle.com/datasets/berkeleyearth/climate-change-earth-surface-temperature-data\n",
        "  * https://climatedata.imf.org/datasets/4063314923d74187be9596f10d034914_0/explore\n",
        "* Emmisions by city/country\n",
        "  * https://www.kaggle.com/datasets/thedevastator/global-fossil-co2-emissions-by-country-2002-2022\n",
        "  * https://ourworldindata.org/co2-and-greenhouse-gas-emissions\n",
        "  * https://github.com/owid/co2-data\n",
        "* Krakow temperatures\n",
        "  * https://danepubliczne.imgw.pl/data/dane_pomiarowo_obserwacyjne/dane_meteorologiczne/miesieczne/klimat/\n",
        "* Krakow emmisions\n",
        "  * https://powietrze.gios.gov.pl/pjp/archives"
      ],
      "metadata": {
        "id": "DIh7zYUsHfWZ"
      }
    },
    {
      "cell_type": "code",
      "execution_count": 1,
      "metadata": {
        "id": "Mllk39C36xiF",
        "outputId": "1097fd76-d543-415f-e508-1a0a5ab42cab",
        "colab": {
          "base_uri": "https://localhost:8080/"
        }
      },
      "outputs": [
        {
          "output_type": "stream",
          "name": "stdout",
          "text": [
            "\u001b[2K     \u001b[90m━━━━━━━━━━━━━━━━━━━━━━━━━━━━━━━━━━━━━━━\u001b[0m \u001b[32m519.6/519.6 kB\u001b[0m \u001b[31m7.9 MB/s\u001b[0m eta \u001b[36m0:00:00\u001b[0m\n",
            "\u001b[2K     \u001b[90m━━━━━━━━━━━━━━━━━━━━━━━━━━━━━━━━━━━━━━\u001b[0m \u001b[32m115.3/115.3 kB\u001b[0m \u001b[31m11.2 MB/s\u001b[0m eta \u001b[36m0:00:00\u001b[0m\n",
            "\u001b[2K     \u001b[90m━━━━━━━━━━━━━━━━━━━━━━━━━━━━━━━━━━━━━━\u001b[0m \u001b[32m194.1/194.1 kB\u001b[0m \u001b[31m17.7 MB/s\u001b[0m eta \u001b[36m0:00:00\u001b[0m\n",
            "\u001b[2K     \u001b[90m━━━━━━━━━━━━━━━━━━━━━━━━━━━━━━━━━━━━━━\u001b[0m \u001b[32m134.8/134.8 kB\u001b[0m \u001b[31m13.2 MB/s\u001b[0m eta \u001b[36m0:00:00\u001b[0m\n",
            "\u001b[2K     \u001b[90m━━━━━━━━━━━━━━━━━━━━━━━━━━━━━━━━━━━━━━\u001b[0m \u001b[32m294.9/294.9 kB\u001b[0m \u001b[31m10.9 MB/s\u001b[0m eta \u001b[36m0:00:00\u001b[0m\n",
            "\u001b[2K     \u001b[90m━━━━━━━━━━━━━━━━━━━━━━━━━━━━━━━━━━━━━━━\u001b[0m \u001b[32m357.3/357.3 kB\u001b[0m \u001b[31m6.1 MB/s\u001b[0m eta \u001b[36m0:00:00\u001b[0m\n",
            "\u001b[2K     \u001b[90m━━━━━━━━━━━━━━━━━━━━━━━━━━━━━━━━━━━━━━\u001b[0m \u001b[32m102.7/102.7 kB\u001b[0m \u001b[31m10.9 MB/s\u001b[0m eta \u001b[36m0:00:00\u001b[0m\n",
            "\u001b[?25h  Preparing metadata (setup.py) ... \u001b[?25l\u001b[?25hdone\n",
            "\u001b[2K     \u001b[90m━━━━━━━━━━━━━━━━━━━━━━━━━━━━━━━━━━━━━━\u001b[0m \u001b[32m679.5/679.5 kB\u001b[0m \u001b[31m48.2 MB/s\u001b[0m eta \u001b[36m0:00:00\u001b[0m\n",
            "\u001b[2K     \u001b[90m━━━━━━━━━━━━━━━━━━━━━━━━━━━━━━━━━━━━━━\u001b[0m \u001b[32m296.5/296.5 kB\u001b[0m \u001b[31m28.9 MB/s\u001b[0m eta \u001b[36m0:00:00\u001b[0m\n",
            "\u001b[2K     \u001b[90m━━━━━━━━━━━━━━━━━━━━━━━━━━━━━━━━━━━━━━━━\u001b[0m \u001b[32m4.7/4.7 MB\u001b[0m \u001b[31m89.0 MB/s\u001b[0m eta \u001b[36m0:00:00\u001b[0m\n",
            "\u001b[?25h  Building wheel for htmlmin (setup.py) ... \u001b[?25l\u001b[?25hdone\n"
          ]
        }
      ],
      "source": [
        "!pip install -U -q datasets\n",
        "!pip install -U -q ydata-profiling"
      ]
    },
    {
      "cell_type": "code",
      "source": [
        "import pandas as pd\n",
        "from datasets import load_dataset\n",
        "from ydata_profiling import ProfileReport"
      ],
      "metadata": {
        "id": "yXEXXk-7dflV"
      },
      "execution_count": 15,
      "outputs": []
    },
    {
      "cell_type": "code",
      "source": [
        "global_temp_anomaly_df = load_dataset(\"vitaliy-sharandin/climate-global-temp-anomaly\")['train'].to_pandas()\n",
        "world_region_temp_df = load_dataset(\"vitaliy-sharandin/climate-world-region\")['train'].to_pandas()\n",
        "country_temp_df = load_dataset(\"vitaliy-sharandin/climate-global-temp-country\")['train'].to_pandas()\n",
        "krakow_temp_df = load_dataset(\"vitaliy-sharandin/climate-krakow-temp-monthly\")['train'].to_pandas()\n",
        "\n",
        "pollution_region_df = load_dataset(\"vitaliy-sharandin/pollution-by-region\")['train'].to_pandas()\n",
        "pollution_variation_df = load_dataset(\"vitaliy-sharandin/pollution-absolute-variation-co2\")['train'].to_pandas()\n",
        "pollution_krakow_df = load_dataset(\"vitaliy-sharandin/pollution-krakow-no2-co\")['train'].to_pandas()"
      ],
      "metadata": {
        "id": "wGJyHDtOdiJX"
      },
      "execution_count": 45,
      "outputs": []
    },
    {
      "cell_type": "code",
      "source": [
        "global_temp_anomaly_df['dt'] = pd.to_datetime(global_temp_anomaly_df['dt'], errors=\"coerce\", utc=True)\n",
        "global_temp_anomaly_df.set_index('dt',drop=True,inplace=True)"
      ],
      "metadata": {
        "id": "zXEfsncM5qLL"
      },
      "execution_count": 50,
      "outputs": []
    },
    {
      "cell_type": "code",
      "source": [
        "world_region_temp_df['Date'] = pd.to_datetime(world_region_temp_df['Date'], errors=\"coerce\", utc=True)\n",
        "world_region_temp_df.set_index('Date',drop=True,inplace=True)"
      ],
      "metadata": {
        "id": "F5wm06Wp6t3p"
      },
      "execution_count": 51,
      "outputs": []
    },
    {
      "cell_type": "code",
      "source": [
        "country_temp_df['dt'] = pd.to_datetime(country_temp_df['dt'], errors=\"coerce\", utc=True)\n",
        "country_temp_df.set_index('dt',drop=True,inplace=True)"
      ],
      "metadata": {
        "id": "VIWzipYU8RaO"
      },
      "execution_count": null,
      "outputs": []
    },
    {
      "cell_type": "code",
      "source": [
        "krakow_temp_df['datetime'] = pd.to_datetime(krakow_temp_df[['Year', 'Month']].assign(DAY=1))\n",
        "krakow_temp_df.set_index('datetime', inplace=True)\n",
        "krakow_temp_df = krakow_temp_df[['Absolute maximum temperature [°C]','Absolute minimum temperature [°C]','Average monthly temperature [°C]']]"
      ],
      "metadata": {
        "id": "yHtiAlcH_cA_"
      },
      "execution_count": 53,
      "outputs": []
    },
    {
      "cell_type": "code",
      "source": [
        "pollution_region_df['Year'] = pd.to_datetime(pollution_region_df['Year'], errors=\"coerce\", utc=True)\n",
        "pollution_region_df.set_index('Year',drop=True,inplace=True)"
      ],
      "metadata": {
        "id": "vJRbqkgh9hPL"
      },
      "execution_count": 57,
      "outputs": []
    },
    {
      "cell_type": "code",
      "source": [
        "pollution_variation_df['Year'] = pd.to_datetime(pollution_variation_df['Year'], errors=\"coerce\", utc=True)\n",
        "pollution_variation_df.set_index('Year',drop=True,inplace=True)"
      ],
      "metadata": {
        "id": "iNLXa94W-QNE"
      },
      "execution_count": 58,
      "outputs": []
    },
    {
      "cell_type": "code",
      "source": [
        "pollution_krakow_df['Datetime'] = pd.to_datetime(pollution_krakow_df['Datetime'], errors=\"coerce\", utc=True)\n",
        "pollution_krakow_df.set_index('Datetime',drop=True,inplace=True)\n",
        "pollution_krakow_df[['NO2','CO']] = pollution_krakow_df[['NO2','CO']].astype(int)"
      ],
      "metadata": {
        "id": "_RaMGSFM8k1q"
      },
      "execution_count": 59,
      "outputs": []
    },
    {
      "cell_type": "markdown",
      "source": [
        "Here are climate datasets in zip file.\n",
        "\n",
        "3 for temperature and weather. One is for Krakow city data, another is global and third is global by country.\n",
        "\n",
        "2 for pollution levels. One global by country and second one for Krakow.\n",
        "\n",
        "I need to analyze following topics and answer following questions:\n",
        "1. Temperature Changes\n",
        "  \n",
        "  1.1.How has the global average temperature changed over the years?\n",
        "  \n",
        "  1.2.Are there specific regions where the temperature is rising faster?\n",
        "  \n",
        "  1.3.What are Poland and Krakow temperature levels rise?\n",
        "  \n",
        "  1.4. Show correlation between global temps rise, Poland and Krakow.\n",
        "2. Greenhouse Gas Emissions\n",
        "  \n",
        "  1.Which countries are the largest emitters of greenhouse gases, and how has this changed over time?\n",
        "\n",
        "  2.2.What sectors (energy, agriculture, industrial processes, etc.) contribute most to greenhouse gas emissions globally and locally?\n",
        "  \n",
        "  2.3. How do per capita emissions vary across different countries?\n",
        "  \n",
        "  2.4.What is the correlation between greenhouse gas concentration and global temperature rise?\n",
        "  \n",
        "  2.5. What is the correlation between greenhouse gas concentration and Krakow temperature rise?\n"
      ],
      "metadata": {
        "id": "oJ19-IHV_frS"
      }
    },
    {
      "cell_type": "code",
      "source": [],
      "metadata": {
        "id": "-1DOEJPdCZQj"
      },
      "execution_count": null,
      "outputs": []
    }
  ]
}