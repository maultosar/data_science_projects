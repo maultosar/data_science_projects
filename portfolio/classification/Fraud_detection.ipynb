{
  "nbformat": 4,
  "nbformat_minor": 0,
  "metadata": {
    "colab": {
      "provenance": [],
      "include_colab_link": true
    },
    "kernelspec": {
      "name": "python3",
      "display_name": "Python 3"
    },
    "language_info": {
      "name": "python"
    }
  },
  "cells": [
    {
      "cell_type": "markdown",
      "metadata": {
        "id": "view-in-github",
        "colab_type": "text"
      },
      "source": [
        "<a href=\"https://colab.research.google.com/github/vitaliy-sharandin/data_science_projects/blob/master/portfolio/classification/Fraud_detection.ipynb\" target=\"_parent\"><img src=\"https://colab.research.google.com/assets/colab-badge.svg\" alt=\"Open In Colab\"/></a>"
      ]
    },
    {
      "cell_type": "markdown",
      "source": [
        "# Datasets\n",
        "* https://www.kaggle.com/datasets/ealaxi/paysim1\n",
        "\n",
        "# Tutorial\n",
        "* https://thecleverprogrammer.com/2022/02/22/online-payments-fraud-detection-with-machine-learning/"
      ],
      "metadata": {
        "id": "UFwLbWGJELj3"
      }
    },
    {
      "cell_type": "code",
      "execution_count": null,
      "metadata": {
        "id": "RKHaB7am7E9R"
      },
      "outputs": [],
      "source": []
    }
  ]
}