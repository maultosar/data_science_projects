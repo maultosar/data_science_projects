{
  "nbformat": 4,
  "nbformat_minor": 0,
  "metadata": {
    "colab": {
      "provenance": [],
      "include_colab_link": true
    },
    "kernelspec": {
      "name": "python3",
      "display_name": "Python 3"
    },
    "language_info": {
      "name": "python"
    }
  },
  "cells": [
    {
      "cell_type": "markdown",
      "metadata": {
        "id": "view-in-github",
        "colab_type": "text"
      },
      "source": [
        "<a href=\"https://colab.research.google.com/github/vitaliy-sharandin/data_science_projects/blob/master/portfolio/regression/Energy_price_demand_and_potential_supply.ipynb\" target=\"_parent\"><img src=\"https://colab.research.google.com/assets/colab-badge.svg\" alt=\"Open In Colab\"/></a>"
      ]
    },
    {
      "cell_type": "markdown",
      "source": [
        "# Datasets\n",
        "\n",
        "* Wind and solar power capacity Poland <br>\n",
        "https://www.statista.com/statistics/1003492/poland-wind-and-solar-power-capacity-forecast/\n",
        "\n",
        "* Predict solar energy <br>\n",
        "* https://towardsdatascience.com/predicting-solar-power-output-using-machine-learning-techniques-56e7959acb1f <br>\n",
        "* https://www.omnicalculator.com/ecology/solar-panel#:~:text=To%20find%20the%20solar%20panel,day%20is%20just%20an%20average.\n",
        "\n",
        "* Wind electric power atlas <br>\n",
        "https://globalwindatlas.info/en/area/Poland/Ma%C5%82opolskie"
      ],
      "metadata": {
        "id": "vrrnzKooh7uP"
      }
    },
    {
      "cell_type": "code",
      "execution_count": null,
      "metadata": {
        "id": "UlNrYf_87VRa"
      },
      "outputs": [],
      "source": []
    }
  ]
}